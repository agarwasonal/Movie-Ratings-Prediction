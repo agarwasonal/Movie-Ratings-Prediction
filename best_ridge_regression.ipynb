{
 "cells": [
  {
   "cell_type": "code",
   "execution_count": 1,
   "metadata": {},
   "outputs": [],
   "source": [
    "import pandas as pd\n",
    "import numpy as np\n",
    "from datetime import datetime\n",
    "import pickle\n",
    "from sklearn.impute import SimpleImputer"
   ]
  },
  {
   "cell_type": "code",
   "execution_count": 2,
   "metadata": {},
   "outputs": [],
   "source": [
    "data = pd.read_csv(r'final_cleaned_preproecessed_file.csv')"
   ]
  },
  {
   "cell_type": "code",
   "execution_count": 3,
   "metadata": {},
   "outputs": [],
   "source": [
    "overview = data.loc[:, ['id','overview']]\n",
    "data = data.drop(['id', 'overview', 'IMDB Score','revenue', 'vote_average', 'vote_count','production_company_2','popularity','num_faces', 'brightness',\n",
    "       'saturation', 'hue', 'brightness_sd', 'saturation_sd ', 'hue_sd',\n",
    "       'blue', 'blue_sd', 'green', 'green_sd', 'red', 'red_sd ',], axis = 1)"
   ]
  },
  {
   "cell_type": "markdown",
   "metadata": {},
   "source": [
    "###   Missing Values"
   ]
  },
  {
   "cell_type": "code",
   "execution_count": 4,
   "metadata": {
    "scrolled": true
   },
   "outputs": [
    {
     "data": {
      "text/plain": [
       "(4637, 29)"
      ]
     },
     "execution_count": 4,
     "metadata": {},
     "output_type": "execute_result"
    }
   ],
   "source": [
    "data[data.budget == 0].shape"
   ]
  },
  {
   "cell_type": "code",
   "execution_count": 5,
   "metadata": {},
   "outputs": [
    {
     "data": {
      "text/plain": [
       "(131, 29)"
      ]
     },
     "execution_count": 5,
     "metadata": {},
     "output_type": "execute_result"
    }
   ],
   "source": [
    "data[data.runtime == 0].shape"
   ]
  },
  {
   "cell_type": "code",
   "execution_count": 6,
   "metadata": {},
   "outputs": [
    {
     "data": {
      "text/plain": [
       "(521, 29)"
      ]
     },
     "execution_count": 6,
     "metadata": {},
     "output_type": "execute_result"
    }
   ],
   "source": [
    "data[data.Lead_Actor == '0'].shape"
   ]
  },
  {
   "cell_type": "code",
   "execution_count": 7,
   "metadata": {},
   "outputs": [
    {
     "data": {
      "text/plain": [
       "(392, 29)"
      ]
     },
     "execution_count": 7,
     "metadata": {},
     "output_type": "execute_result"
    }
   ],
   "source": [
    "data[data.Supporting_Actor == '0'].shape"
   ]
  },
  {
   "cell_type": "code",
   "execution_count": 8,
   "metadata": {},
   "outputs": [
    {
     "data": {
      "text/plain": [
       "(56, 29)"
      ]
     },
     "execution_count": 8,
     "metadata": {},
     "output_type": "execute_result"
    }
   ],
   "source": [
    "data[data.Director == '0'].shape"
   ]
  },
  {
   "cell_type": "code",
   "execution_count": 9,
   "metadata": {},
   "outputs": [
    {
     "data": {
      "text/plain": [
       "(2506, 29)"
      ]
     },
     "execution_count": 9,
     "metadata": {},
     "output_type": "execute_result"
    }
   ],
   "source": [
    "data[data.Producer == '0'].shape"
   ]
  },
  {
   "cell_type": "markdown",
   "metadata": {},
   "source": [
    "### Imputing values for Numerical Variable - runtime"
   ]
  },
  {
   "cell_type": "code",
   "execution_count": 10,
   "metadata": {},
   "outputs": [],
   "source": [
    "imputer_runtime = SimpleImputer(missing_values=0, strategy = 'mean')\n",
    "\n",
    "data.loc[:,['runtime']] = imputer_runtime.fit_transform(data.loc[:,['runtime']])\n",
    "\n",
    "with open(r\"F:\\Projects\\Internship\\Technocolabs\\movie_ratings\\pickle\\{}.pkl\".format('imputer_runtime'), \"wb\") as f:   \n",
    "    pickle.dump(imputer_runtime, f)"
   ]
  },
  {
   "cell_type": "markdown",
   "metadata": {},
   "source": [
    "### Imputing values for Categorical Variables - \n",
    "'production_company_1', 'production_company_2', 'Lead_Actor', 'Supporting_Actor', 'Director',\n",
    "       'Producer'"
   ]
  },
  {
   "cell_type": "code",
   "execution_count": 11,
   "metadata": {},
   "outputs": [],
   "source": [
    "imputer_categorical = SimpleImputer(missing_values='0', strategy='most_frequent')\n",
    "cols = ['production_company_1', 'Lead_Actor', 'Supporting_Actor', 'Director','Producer']\n",
    "data.loc[:,cols] =imputer_categorical.fit_transform(data.loc[:,cols])"
   ]
  },
  {
   "cell_type": "markdown",
   "metadata": {},
   "source": [
    "### Categorical encoding - Target Encoding"
   ]
  },
  {
   "cell_type": "code",
   "execution_count": 12,
   "metadata": {},
   "outputs": [],
   "source": [
    "import category_encoders as ce\n",
    "from category_encoders import TargetEncoder\n",
    "\n",
    "encoder_lead_actor = ce.TargetEncoder(cols= 'Lead_Actor') \n",
    "data.loc[:,'Lead_Actor'] = encoder_lead_actor.fit_transform(data['Lead_Actor'],data['rating'])\n",
    "with open(r\"F:\\Projects\\Internship\\Technocolabs\\movie_ratings\\pickle\\{}.pkl\".format('encoder_lead_actor'), \"wb\") as f:   \n",
    "    pickle.dump(encoder_lead_actor, f)\n",
    "\n",
    "encoder_sup_actor = ce.TargetEncoder(cols= 'Supporting_Actor') \n",
    "data.loc[:,'Supporting_Actor'] = encoder_sup_actor.fit_transform(data['Supporting_Actor'],data['rating'])\n",
    "with open(r\"F:\\Projects\\Internship\\Technocolabs\\movie_ratings\\pickle\\{}.pkl\".format('encoder_sup_actor'), \"wb\") as f:   \n",
    "    pickle.dump(encoder_sup_actor, f)\n",
    "    \n",
    "encoder_director_name = ce.TargetEncoder(cols= 'Director') \n",
    "data.loc[:,'Director'] = encoder_director_name.fit_transform(data['Director'],data['rating'])\n",
    "with open(r\"F:\\Projects\\Internship\\Technocolabs\\movie_ratings\\pickle\\{}.pkl\".format('encoder_director_name'), \"wb\") as f:   \n",
    "    pickle.dump(encoder_director_name, f)\n",
    "    \n",
    "encoder_producer_name = ce.TargetEncoder(cols= 'Producer') \n",
    "data.loc[:,'Producer'] = encoder_producer_name.fit_transform(data['Producer'],data['rating'])\n",
    "with open(r\"F:\\Projects\\Internship\\Technocolabs\\movie_ratings\\pickle\\{}.pkl\".format('encoder_producer_name'), \"wb\") as f:   \n",
    "    pickle.dump(encoder_producer_name, f)\n",
    "    \n",
    "encoder_production_company_1 = ce.TargetEncoder(cols= 'production_company_1') \n",
    "data.loc[:,'production_company_1'] = encoder_production_company_1.fit_transform(data['production_company_1'],data['rating'])\n",
    "with open(r\"F:\\Projects\\Internship\\Technocolabs\\movie_ratings\\pickle\\{}.pkl\".format('encoder_production_company_1'), \"wb\") as f:   \n",
    "    pickle.dump(encoder_production_company_1, f)"
   ]
  },
  {
   "cell_type": "markdown",
   "metadata": {},
   "source": [
    "### Imputing values for budget using KNN"
   ]
  },
  {
   "cell_type": "code",
   "execution_count": 13,
   "metadata": {},
   "outputs": [],
   "source": [
    "train = data[data['budget'] != 0].copy()\n",
    "test = data[data['budget'] == 0].copy()\n",
    "X_train, X_test, y_train, y_test =  train.drop('budget',axis = 1), test.drop('budget',axis = 1), train.loc[:,'budget'], test.loc[:,'budget']\n",
    "ind = y_test.index\n",
    "\n",
    "from sklearn.neighbors import KNeighborsRegressor\n",
    "\n",
    "knn = KNeighborsRegressor(n_neighbors=10)\n",
    "knn.fit(X_train, y_train)\n",
    "\n",
    "y_pred = knn.predict(X_test)\n",
    "\n",
    "for i in range(ind.shape[0]):\n",
    "    data.loc[ind[i],'budget'] = y_pred[i]\n",
    "    "
   ]
  },
  {
   "cell_type": "code",
   "execution_count": 14,
   "metadata": {},
   "outputs": [
    {
     "name": "stdout",
     "output_type": "stream",
     "text": [
      "-------------| Order of selected columns in data |-------------\n",
      "               0 : belongs_to_collection\n",
      "               1 : budget\n",
      "               2 : runtime\n",
      "               3 : Action\n",
      "               4 : Adventure\n",
      "               5 : Animation\n",
      "               6 : Comedy\n",
      "               7 : Crime\n",
      "               8 : Documentary\n",
      "               9 : Drama\n",
      "               10 : Family\n",
      "               11 : Fantasy\n",
      "               12 : Foreign\n",
      "               13 : History\n",
      "               14 : Horror\n",
      "               15 : Music\n",
      "               16 : Mystery\n",
      "               17 : Romance\n",
      "               18 : Science Fiction\n",
      "               19 : TV Movie\n",
      "               20 : Thriller\n",
      "               21 : War\n",
      "               22 : Western\n",
      "               23 : production_company_1\n",
      "               24 : Lead_Actor\n",
      "               25 : Supporting_Actor\n",
      "               26 : Director\n",
      "               27 : Producer\n",
      "               28 : rating\n"
     ]
    }
   ],
   "source": [
    "print('-------------| Order of selected columns in data |-------------')\n",
    "for i,j in enumerate(data.columns) :\n",
    "    print('               {} : {}'.format(i,j))\n",
    "    "
   ]
  },
  {
   "cell_type": "markdown",
   "metadata": {},
   "source": [
    "### Bag of Words Model with CountVectorizer"
   ]
  },
  {
   "cell_type": "code",
   "execution_count": 15,
   "metadata": {
    "scrolled": false
   },
   "outputs": [
    {
     "name": "stderr",
     "output_type": "stream",
     "text": [
      "[nltk_data] Downloading package stopwords to\n",
      "[nltk_data]     C:\\Users\\ANP\\AppData\\Roaming\\nltk_data...\n",
      "[nltk_data]   Package stopwords is already up-to-date!\n"
     ]
    },
    {
     "name": "stdout",
     "output_type": "stream",
     "text": [
      "0 overviews processed\n",
      "1000 overviews processed\n",
      "2000 overviews processed\n",
      "3000 overviews processed\n",
      "4000 overviews processed\n",
      "5000 overviews processed\n",
      "6000 overviews processed\n",
      "\n",
      "---------| Corpus created |----------\n",
      "\n",
      "---------| Time taken to create corpus : |---------- -1 day, 23:57:41.014437\n"
     ]
    }
   ],
   "source": [
    "import re\n",
    "import nltk\n",
    "import pickle\n",
    "nltk.download('stopwords')\n",
    "from nltk.corpus import stopwords\n",
    "from sklearn.feature_extraction.text import CountVectorizer\n",
    "from nltk.stem.snowball import SnowballStemmer\n",
    "def preprocess(df, lst) : \n",
    "    for i in range(df.shape[0]) :\n",
    "        comment = re.sub(r'[?|!|\\'|\"|#]',r'', df['overview'][i])\n",
    "        comment = re.sub(r'[.|,|)|(|\\|/]',r' ', comment)\n",
    "        comment = comment.replace(\"\\n\",\" \")\n",
    "        comment = re.sub('[^a-zA-Z]',' ', comment)\n",
    "        comment = comment.lower()\n",
    "        comment = comment.split()\n",
    "        ps = SnowballStemmer(language='english')\n",
    "        comment = [ps.stem(word) for word in comment if not word in set(stopwords.words('english'))]\n",
    "        comment = ' '.join(comment)\n",
    "        lst.append(comment)\n",
    "        if i%1000 == 0 :\n",
    "            print(str(i) +' overviews processed')\n",
    "\n",
    "    \n",
    "start1 = datetime.now()    \n",
    "corpus = []\n",
    "preprocess(overview, corpus)\n",
    "end1 = datetime.now()\n",
    "print('\\n---------| Corpus created |----------')\n",
    "print('\\n---------| Time taken to create corpus : |----------', start1 - end1)\n",
    "\n",
    "cv = CountVectorizer(max_features=500)\n",
    "\n",
    "ovrvw = cv.fit_transform(corpus).toarray()\n",
    "\n",
    "with open(r\"F:\\Projects\\Internship\\Technocolabs\\movie_ratings\\pickle\\{}.pkl\".format('vectorizer'), \"wb\") as f:   \n",
    "    pickle.dump(cv, f)\n",
    "\n",
    "pd.DataFrame(ovrvw).to_csv('overview_cv.csv',index_label = False)\n",
    "\n",
    "\n",
    "ovrvw = pd.read_csv(r'overview_cv.csv')"
   ]
  },
  {
   "cell_type": "code",
   "execution_count": 16,
   "metadata": {},
   "outputs": [
    {
     "name": "stdout",
     "output_type": "stream",
     "text": [
      "-------------| X Shape : (6634, 29) |-------------\n"
     ]
    }
   ],
   "source": [
    "y = data.loc[:,'rating'].values\n",
    "X = data.loc[:,:'rating'].values\n",
    "print('-------------| X Shape : {} |-------------'.format(X.shape))"
   ]
  },
  {
   "cell_type": "markdown",
   "metadata": {},
   "source": [
    "### Concatinating vectors of overview data with the rest of the data"
   ]
  },
  {
   "cell_type": "code",
   "execution_count": 17,
   "metadata": {},
   "outputs": [],
   "source": [
    "X = np.hstack((X,ovrvw))"
   ]
  },
  {
   "cell_type": "markdown",
   "metadata": {},
   "source": [
    "### Scaling Data"
   ]
  },
  {
   "cell_type": "code",
   "execution_count": 18,
   "metadata": {},
   "outputs": [],
   "source": [
    "from sklearn.preprocessing import StandardScaler\n",
    "\n",
    "sc = StandardScaler()\n",
    "\n",
    "X = sc.fit_transform(X)\n",
    "\n",
    "with open(r\"F:\\Projects\\Internship\\Technocolabs\\movie_ratings\\pickle\\{}.pkl\".format('standard_scaler'), \"wb\") as f:   \n",
    "    pickle.dump(sc, f)"
   ]
  },
  {
   "cell_type": "markdown",
   "metadata": {},
   "source": [
    "### Splitting data into train set (90%) and test set (10%)"
   ]
  },
  {
   "cell_type": "code",
   "execution_count": 19,
   "metadata": {},
   "outputs": [],
   "source": [
    "from sklearn.model_selection import train_test_split\n",
    "\n",
    "X_train, X_test, y_train, y_test = train_test_split(X, y, test_size = 0.1, random_state = 42)"
   ]
  },
  {
   "cell_type": "markdown",
   "metadata": {},
   "source": [
    "### Fitting Ridge Regression model to train set with Grid Search"
   ]
  },
  {
   "cell_type": "code",
   "execution_count": 20,
   "metadata": {},
   "outputs": [
    {
     "name": "stdout",
     "output_type": "stream",
     "text": [
      "-------------| Time to fit the model : -1 day, 23:59:09.900746 |-------------\n",
      "-------------| Best Paramters : {'alpha': 0.0001} |-------------\n"
     ]
    }
   ],
   "source": [
    "from sklearn.linear_model import Ridge\n",
    "from sklearn.model_selection import GridSearchCV\n",
    "\n",
    "start = datetime.now()\n",
    "\n",
    "param = {'alpha' : np.linspace(0.0001, 1, 50)}\n",
    "\n",
    "grids = GridSearchCV(Ridge(), param_grid = param, cv = 10,scoring = 'neg_mean_absolute_error', n_jobs = -1)\n",
    "\n",
    "grids.fit(X_train,y_train)\n",
    "\n",
    "end = datetime.now()\n",
    "\n",
    "print('-------------| Time to fit the model : {} |-------------'.format(start - end))\n",
    "\n",
    "print('-------------| Best Paramters : {} |-------------'.format(grids.best_params_))"
   ]
  },
  {
   "cell_type": "code",
   "execution_count": 21,
   "metadata": {},
   "outputs": [
    {
     "name": "stdout",
     "output_type": "stream",
     "text": [
      "-------------| Mean Absolute Error on Train set : 1.2403106155255467e-08 |-------------\n"
     ]
    }
   ],
   "source": [
    "print('-------------| Mean Absolute Error on Train set : {} |-------------'.format(-1*grids.best_score_))"
   ]
  },
  {
   "cell_type": "code",
   "execution_count": 22,
   "metadata": {},
   "outputs": [
    {
     "name": "stdout",
     "output_type": "stream",
     "text": [
      "-------------| Mean Absolute Error on Test set : 1.1082173490296704e-08 |-------------\n"
     ]
    }
   ],
   "source": [
    "y_test_pred = grids.predict(X_test)\n",
    "\n",
    "from sklearn.metrics import mean_absolute_error\n",
    "\n",
    "print('-------------| Mean Absolute Error on Test set : {} |-------------'.format(mean_absolute_error(y_test, y_test_pred)))"
   ]
  },
  {
   "cell_type": "code",
   "execution_count": 23,
   "metadata": {},
   "outputs": [
    {
     "name": "stdout",
     "output_type": "stream",
     "text": [
      "-------------| For parameter alpha = 0.0001 |-------------\n"
     ]
    }
   ],
   "source": [
    "print('-------------| For parameter alpha = {} |-------------'.format(grids.best_params_['alpha']))\n",
    "\n",
    "model = Ridge(alpha = grids.best_params_['alpha'])\n",
    "\n",
    "model.fit(X_train, y_train)\n",
    "\n",
    "with open(r\"F:\\Projects\\Internship\\Technocolabs\\movie_ratings\\pickle\\{}.pkl\".format('final_model'), \"wb\") as f:   \n",
    "    pickle.dump(model, f)"
   ]
  },
  {
   "cell_type": "markdown",
   "metadata": {},
   "source": [
    "### Feature Importance"
   ]
  },
  {
   "cell_type": "code",
   "execution_count": 26,
   "metadata": {},
   "outputs": [
    {
     "data": {
      "image/png": "[encoded data removed]",
      "text/plain": [
       "<Figure size 1080x504 with 1 Axes>"
      ]
     },
     "metadata": {
      "needs_background": "light"
     },
     "output_type": "display_data"
    }
   ],
   "source": [
    "import matplotlib.pyplot as plt\n",
    "import seaborn as sns\n",
    "plt.figure(figsize = (15,7))\n",
    "temp = pd.DataFrame({'columns' : data.columns[:-1], 'coef' :abs(model.coef_[:28])})\n",
    "temp1 = temp.sort_values('coef',ascending = False)\n",
    "sns.barplot(temp1['columns'],temp1['coef'])\n",
    "plt.xticks(rotation=90)\n",
    "plt.show()"
   ]
  },
  {
   "cell_type": "markdown",
   "metadata": {},
   "source": [
    "### Important genres for ratings"
   ]
  },
  {
   "cell_type": "code",
   "execution_count": 25,
   "metadata": {},
   "outputs": [
    {
     "data": {
      "image/png": "[encoded data removed]",
      "text/plain": [
       "<Figure size 1080x720 with 1 Axes>"
      ]
     },
     "metadata": {
      "needs_background": "light"
     },
     "output_type": "display_data"
    }
   ],
   "source": [
    "temp2 = temp[3:16].sort_values('coef', ascending = False)\n",
    "plt.figure(figsize = (15,10))\n",
    "sns.barplot(temp2['columns'],temp2['coef'])\n",
    "plt.show()"
   ]
  }
 ],
 "metadata": {
  "kernelspec": {
   "display_name": "Python 3",
   "language": "python",
   "name": "python3"
  },
  "language_info": {
   "codemirror_mode": {
    "name": "ipython",
    "version": 3
   },
   "file_extension": ".py",
   "mimetype": "text/x-python",
   "name": "python",
   "nbconvert_exporter": "python",
   "pygments_lexer": "ipython3",
   "version": "3.7.3"
  }
 },
 "nbformat": 4,
 "nbformat_minor": 2
}
