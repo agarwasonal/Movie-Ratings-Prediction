{
 "cells": [
  {
   "cell_type": "code",
   "execution_count": 1,
   "metadata": {},
   "outputs": [],
   "source": [
    "import pandas as pd\n",
    "import numpy as np\n",
    "from datetime import datetime\n",
    "\n",
    "from sklearn.impute import SimpleImputer"
   ]
  },
  {
   "cell_type": "code",
   "execution_count": 2,
   "metadata": {},
   "outputs": [],
   "source": [
    "data = pd.read_csv(r'final_cleaned_preproecessed_file.csv')"
   ]
  },
  {
   "cell_type": "code",
   "execution_count": 3,
   "metadata": {},
   "outputs": [],
   "source": [
    "overview = data.loc[:, ['id','overview']]\n",
    "data = data.drop(['id', 'overview', 'IMDB Score','revenue', 'vote_average', 'vote_count','production_company_2','popularity',], axis = 1)"
   ]
  },
  {
   "cell_type": "code",
   "execution_count": 4,
   "metadata": {
    "scrolled": true
   },
   "outputs": [
    {
     "data": {
      "text/plain": [
       "(4637, 42)"
      ]
     },
     "execution_count": 4,
     "metadata": {},
     "output_type": "execute_result"
    }
   ],
   "source": [
    "data[data.budget == 0].shape"
   ]
  },
  {
   "cell_type": "code",
   "execution_count": 5,
   "metadata": {},
   "outputs": [
    {
     "data": {
      "text/plain": [
       "(131, 42)"
      ]
     },
     "execution_count": 5,
     "metadata": {},
     "output_type": "execute_result"
    }
   ],
   "source": [
    "data[data.runtime == 0].shape"
   ]
  },
  {
   "cell_type": "code",
   "execution_count": 6,
   "metadata": {},
   "outputs": [
    {
     "data": {
      "text/plain": [
       "(521, 42)"
      ]
     },
     "execution_count": 6,
     "metadata": {},
     "output_type": "execute_result"
    }
   ],
   "source": [
    "data[data.Lead_Actor == '0'].shape"
   ]
  },
  {
   "cell_type": "code",
   "execution_count": 7,
   "metadata": {},
   "outputs": [
    {
     "data": {
      "text/plain": [
       "(392, 42)"
      ]
     },
     "execution_count": 7,
     "metadata": {},
     "output_type": "execute_result"
    }
   ],
   "source": [
    "data[data.Supporting_Actor == '0'].shape"
   ]
  },
  {
   "cell_type": "code",
   "execution_count": 8,
   "metadata": {},
   "outputs": [
    {
     "data": {
      "text/plain": [
       "(56, 42)"
      ]
     },
     "execution_count": 8,
     "metadata": {},
     "output_type": "execute_result"
    }
   ],
   "source": [
    "data[data.Director == '0'].shape"
   ]
  },
  {
   "cell_type": "code",
   "execution_count": 9,
   "metadata": {},
   "outputs": [
    {
     "data": {
      "text/plain": [
       "(2506, 42)"
      ]
     },
     "execution_count": 9,
     "metadata": {},
     "output_type": "execute_result"
    }
   ],
   "source": [
    "data[data.Producer == '0'].shape"
   ]
  },
  {
   "cell_type": "markdown",
   "metadata": {},
   "source": [
    "### Imputing values for Numerical Variable - (runtime )"
   ]
  },
  {
   "cell_type": "code",
   "execution_count": 10,
   "metadata": {},
   "outputs": [],
   "source": [
    "imputer_runtime = SimpleImputer(missing_values=0, strategy = 'mean')\n",
    "\n",
    "data.loc[:,['runtime']] = imputer_runtime.fit_transform(data.loc[:,['runtime']])"
   ]
  },
  {
   "cell_type": "markdown",
   "metadata": {},
   "source": [
    "### Imputing values for Categorical Variables - \n",
    "'production_company_1', 'production_company_2', 'Lead_Actor', 'Supporting_Actor', 'Director',\n",
    "       'Producer'"
   ]
  },
  {
   "cell_type": "code",
   "execution_count": 11,
   "metadata": {},
   "outputs": [],
   "source": [
    "imputer_categorical = SimpleImputer(missing_values='0', strategy='most_frequent')\n",
    "cols = ['production_company_1', 'Lead_Actor', 'Supporting_Actor', 'Director','Producer']\n",
    "data.loc[:,cols] =imputer_categorical.fit_transform(data.loc[:,cols])"
   ]
  },
  {
   "cell_type": "markdown",
   "metadata": {},
   "source": [
    "### Categorical encoding - Target Encoding"
   ]
  },
  {
   "cell_type": "code",
   "execution_count": 12,
   "metadata": {},
   "outputs": [],
   "source": [
    "import category_encoders as ce\n",
    "from category_encoders import TargetEncoder\n",
    "\n",
    "encoder_lead_actor = ce.TargetEncoder(cols= 'Lead_Actor') \n",
    "data.loc[:,'Lead_Actor'] = encoder_lead_actor.fit_transform(data['Lead_Actor'],data['rating'])\n",
    "\n",
    "encoder_sup_actor = ce.TargetEncoder(cols= 'Supporting_Actor') \n",
    "data.loc[:,'Supporting_Actor'] = encoder_sup_actor.fit_transform(data['Supporting_Actor'],data['rating'])\n",
    "\n",
    "encoder_director_name = ce.TargetEncoder(cols= 'Director') \n",
    "data.loc[:,'Director'] = encoder_director_name.fit_transform(data['Director'],data['rating'])\n",
    "\n",
    "encoder_producer_name = ce.TargetEncoder(cols= 'Producer') \n",
    "data.loc[:,'Producer'] = encoder_producer_name.fit_transform(data['Producer'],data['rating'])\n",
    "\n",
    "encoder_production_company_1 = ce.TargetEncoder(cols= 'production_company_1') \n",
    "data.loc[:,'production_company_1'] = encoder_production_company_1.fit_transform(data['production_company_1'],data['rating'])"
   ]
  },
  {
   "cell_type": "markdown",
   "metadata": {},
   "source": [
    "### Imputing values for budget"
   ]
  },
  {
   "cell_type": "code",
   "execution_count": 13,
   "metadata": {},
   "outputs": [],
   "source": [
    "train = data[data['budget'] != 0].copy()\n",
    "test = data[data['budget'] == 0].copy()\n",
    "X_train, X_test, y_train, y_test =  train.drop('budget',axis = 1), test.drop('budget',axis = 1), train.loc[:,'budget'], test.loc[:,'budget']\n",
    "ind = y_test.index\n",
    "\n",
    "from sklearn.neighbors import KNeighborsRegressor\n",
    "\n",
    "knn = KNeighborsRegressor(n_neighbors=10)\n",
    "knn.fit(X_train, y_train)\n",
    "\n",
    "y_pred = knn.predict(X_test)\n",
    "\n",
    "for i in range(ind.shape[0]):\n",
    "    data.loc[ind[i],'budget'] = y_pred[i]\n",
    "    "
   ]
  },
  {
   "cell_type": "markdown",
   "metadata": {},
   "source": [
    "### Bag of Words Model with CountVectorizer"
   ]
  },
  {
   "cell_type": "code",
   "execution_count": 14,
   "metadata": {
    "scrolled": false
   },
   "outputs": [],
   "source": [
    "\"\"\"import re\n",
    "import nltk\n",
    "import pickle\n",
    "nltk.download('stopwords')\n",
    "from nltk.corpus import stopwords\n",
    "from sklearn.feature_extraction.text import CountVectorizer\n",
    "from nltk.stem.snowball import SnowballStemmer\n",
    "def preprocess(df, lst) : \n",
    "    for i in range(df.shape[0]) :\n",
    "        comment = re.sub(r'[?|!|\\'|\"|#]',r'', df['overview'][i])\n",
    "        comment = re.sub(r'[.|,|)|(|\\|/]',r' ', comment)\n",
    "        comment = comment.replace(\"\\n\",\" \")\n",
    "        comment = re.sub('[^a-zA-Z]',' ', comment)\n",
    "        comment = comment.lower()\n",
    "        comment = comment.split()\n",
    "        ps = SnowballStemmer(language='english')\n",
    "        comment = [ps.stem(word) for word in comment if not word in set(stopwords.words('english'))]\n",
    "        comment = ' '.join(comment)\n",
    "        lst.append(comment)\n",
    "        if i%1000 == 0 :\n",
    "            print(str(i)+' comments preprocessed')\n",
    "\n",
    "    \n",
    "start1 = datetime.now()    \n",
    "corpus = []\n",
    "preprocess(overview, corpus)\n",
    "end1 = datetime.now()\n",
    "print('\\n..............Corpus created.............')\n",
    "print('\\nTIme taken to create corpus : ', start1 - end1)\n",
    "\n",
    "cv = CountVectorizer(max_features=500)\n",
    "\n",
    "ovrvw = cv.fit_transform(corpus).toarray()\n",
    "\n",
    "pd.DataFrame(ovrvw).to_csv('overview_cv.csv',index_label = False)\n",
    "\"\"\"\n",
    "\n",
    "ovrvw = pd.read_csv(r'overview_cv.csv')"
   ]
  },
  {
   "cell_type": "code",
   "execution_count": 15,
   "metadata": {},
   "outputs": [],
   "source": [
    "data = data.drop(data.iloc[:,3:16].columns, axis = 1)"
   ]
  },
  {
   "cell_type": "code",
   "execution_count": 16,
   "metadata": {},
   "outputs": [
    {
     "name": "stdout",
     "output_type": "stream",
     "text": [
      "-------------| X Shape : (6634, 29) |-------------\n"
     ]
    }
   ],
   "source": [
    "y = data.loc[:,'rating'].values\n",
    "X = data.loc[:,:'rating'].values\n",
    "print('-------------| X Shape : {} |-------------'.format(X.shape))"
   ]
  },
  {
   "cell_type": "code",
   "execution_count": 17,
   "metadata": {},
   "outputs": [],
   "source": [
    "X = np.hstack((X,ovrvw))"
   ]
  },
  {
   "cell_type": "code",
   "execution_count": 18,
   "metadata": {},
   "outputs": [],
   "source": [
    "from sklearn.preprocessing import StandardScaler\n",
    "\n",
    "sc = StandardScaler()\n",
    "\n",
    "X = sc.fit_transform(X)"
   ]
  },
  {
   "cell_type": "code",
   "execution_count": 19,
   "metadata": {},
   "outputs": [],
   "source": [
    "from sklearn.model_selection import train_test_split\n",
    "\n",
    "X_train, X_test, y_train, y_test = train_test_split(X, y, test_size = 0.1, random_state = 42)"
   ]
  },
  {
   "cell_type": "code",
   "execution_count": 20,
   "metadata": {},
   "outputs": [
    {
     "name": "stdout",
     "output_type": "stream",
     "text": [
      "-------------| Time to fit the model : -1 day, 23:58:24.739311 |-------------\n",
      "-------------| Best Paramters : {'alpha': 0.0001} |-------------\n"
     ]
    }
   ],
   "source": [
    "from sklearn.linear_model import Ridge, Lasso\n",
    "from sklearn.model_selection import GridSearchCV\n",
    "\n",
    "start = datetime.now()\n",
    "\n",
    "param = {'alpha' : np.linspace(0.0001, 1, 100)}\n",
    "\n",
    "grids = GridSearchCV(Lasso(), param_grid = param, cv = 10,scoring = 'neg_mean_absolute_error', n_jobs = -1)\n",
    "\n",
    "grids.fit(X_train,y_train)\n",
    "\n",
    "end = datetime.now()\n",
    "\n",
    "print('-------------| Time to fit the model : {} |-------------'.format(start - end))\n",
    "\n",
    "print('-------------| Best Paramters : {} |-------------'.format(grids.best_params_))"
   ]
  },
  {
   "cell_type": "code",
   "execution_count": 21,
   "metadata": {},
   "outputs": [
    {
     "name": "stdout",
     "output_type": "stream",
     "text": [
      "-------------| Mean Absolute Error on Train set : 7.705545558558002e-05 |-------------\n"
     ]
    }
   ],
   "source": [
    "print('-------------| Mean Absolute Error on Train set : {} |-------------'.format(-1*grids.best_score_))"
   ]
  },
  {
   "cell_type": "code",
   "execution_count": 22,
   "metadata": {},
   "outputs": [
    {
     "name": "stdout",
     "output_type": "stream",
     "text": [
      "-------------| Mean Absolute Error on Test set : 8.098608383849397e-05 |-------------\n"
     ]
    }
   ],
   "source": [
    "y_pred = grids.predict(X_test)\n",
    "\n",
    "from sklearn.metrics import mean_absolute_error\n",
    "\n",
    "print('-------------| Mean Absolute Error on Test set : {} |-------------'.format(mean_absolute_error(y_test, y_pred)))"
   ]
  }
 ],
 "metadata": {
  "kernelspec": {
   "display_name": "Python 3",
   "language": "python",
   "name": "python3"
  },
  "language_info": {
   "codemirror_mode": {
    "name": "ipython",
    "version": 3
   },
   "file_extension": ".py",
   "mimetype": "text/x-python",
   "name": "python",
   "nbconvert_exporter": "python",
   "pygments_lexer": "ipython3",
   "version": "3.7.3"
  }
 },
 "nbformat": 4,
 "nbformat_minor": 2
}
