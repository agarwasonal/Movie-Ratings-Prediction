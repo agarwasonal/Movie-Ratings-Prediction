{
 "cells": [
  {
   "cell_type": "code",
   "execution_count": 1,
   "metadata": {},
   "outputs": [],
   "source": [
    "import pandas as pd\n",
    "import numpy as np\n",
    "from datetime import datetime\n",
    "\n",
    "from sklearn.impute import SimpleImputer"
   ]
  },
  {
   "cell_type": "code",
   "execution_count": 2,
   "metadata": {},
   "outputs": [],
   "source": [
    "data = pd.read_csv(r'final_cleaned_preproecessed_file.csv')"
   ]
  },
  {
   "cell_type": "code",
   "execution_count": 3,
   "metadata": {},
   "outputs": [],
   "source": [
    "overview = data.loc[:, ['id','overview']]\n",
    "data = data.drop(['id', 'overview', 'IMDB Score','revenue', 'vote_average', 'vote_count','production_company_2','popularity',], axis = 1)"
   ]
  },
  {
   "cell_type": "code",
   "execution_count": 4,
   "metadata": {
    "scrolled": true
   },
   "outputs": [
    {
     "data": {
      "text/plain": [
       "(4637, 42)"
      ]
     },
     "execution_count": 4,
     "metadata": {},
     "output_type": "execute_result"
    }
   ],
   "source": [
    "data[data.budget == 0].shape"
   ]
  },
  {
   "cell_type": "code",
   "execution_count": 5,
   "metadata": {},
   "outputs": [
    {
     "data": {
      "text/plain": [
       "(131, 42)"
      ]
     },
     "execution_count": 5,
     "metadata": {},
     "output_type": "execute_result"
    }
   ],
   "source": [
    "data[data.runtime == 0].shape"
   ]
  },
  {
   "cell_type": "code",
   "execution_count": 6,
   "metadata": {},
   "outputs": [
    {
     "data": {
      "text/plain": [
       "(521, 42)"
      ]
     },
     "execution_count": 6,
     "metadata": {},
     "output_type": "execute_result"
    }
   ],
   "source": [
    "data[data.Lead_Actor == '0'].shape"
   ]
  },
  {
   "cell_type": "code",
   "execution_count": 7,
   "metadata": {},
   "outputs": [
    {
     "data": {
      "text/plain": [
       "(392, 42)"
      ]
     },
     "execution_count": 7,
     "metadata": {},
     "output_type": "execute_result"
    }
   ],
   "source": [
    "data[data.Supporting_Actor == '0'].shape"
   ]
  },
  {
   "cell_type": "code",
   "execution_count": 8,
   "metadata": {},
   "outputs": [
    {
     "data": {
      "text/plain": [
       "(56, 42)"
      ]
     },
     "execution_count": 8,
     "metadata": {},
     "output_type": "execute_result"
    }
   ],
   "source": [
    "data[data.Director == '0'].shape"
   ]
  },
  {
   "cell_type": "code",
   "execution_count": 9,
   "metadata": {},
   "outputs": [
    {
     "data": {
      "text/plain": [
       "(2506, 42)"
      ]
     },
     "execution_count": 9,
     "metadata": {},
     "output_type": "execute_result"
    }
   ],
   "source": [
    "data[data.Producer == '0'].shape"
   ]
  },
  {
   "cell_type": "markdown",
   "metadata": {},
   "source": [
    "### Imputing values for Numerical Variable - (runtime )"
   ]
  },
  {
   "cell_type": "code",
   "execution_count": 10,
   "metadata": {},
   "outputs": [],
   "source": [
    "imputer_runtime = SimpleImputer(missing_values=0, strategy = 'mean')\n",
    "\n",
    "data.loc[:,['runtime']] = imputer_runtime.fit_transform(data.loc[:,['runtime']])"
   ]
  },
  {
   "cell_type": "markdown",
   "metadata": {},
   "source": [
    "### Imputing values for Categorical Variables - \n",
    "'production_company_1', 'production_company_2', 'Lead_Actor', 'Supporting_Actor', 'Director',\n",
    "       'Producer'"
   ]
  },
  {
   "cell_type": "code",
   "execution_count": 11,
   "metadata": {},
   "outputs": [],
   "source": [
    "imputer_categorical = SimpleImputer(missing_values='0', strategy='most_frequent')\n",
    "cols = ['production_company_1', 'Lead_Actor', 'Supporting_Actor', 'Director','Producer']\n",
    "data.loc[:,cols] =imputer_categorical.fit_transform(data.loc[:,cols])"
   ]
  },
  {
   "cell_type": "markdown",
   "metadata": {},
   "source": [
    "### Categorical encoding - Target Encoding"
   ]
  },
  {
   "cell_type": "code",
   "execution_count": 12,
   "metadata": {},
   "outputs": [],
   "source": [
    "import category_encoders as ce\n",
    "from category_encoders import TargetEncoder\n",
    "\n",
    "encoder_lead_actor = ce.TargetEncoder(cols= 'Lead_Actor') \n",
    "data.loc[:,'Lead_Actor'] = encoder_lead_actor.fit_transform(data['Lead_Actor'],data['rating'])\n",
    "\n",
    "encoder_sup_actor = ce.TargetEncoder(cols= 'Supporting_Actor') \n",
    "data.loc[:,'Supporting_Actor'] = encoder_sup_actor.fit_transform(data['Supporting_Actor'],data['rating'])\n",
    "\n",
    "encoder_director_name = ce.TargetEncoder(cols= 'Director') \n",
    "data.loc[:,'Director'] = encoder_director_name.fit_transform(data['Director'],data['rating'])\n",
    "\n",
    "encoder_producer_name = ce.TargetEncoder(cols= 'Producer') \n",
    "data.loc[:,'Producer'] = encoder_producer_name.fit_transform(data['Producer'],data['rating'])\n",
    "\n",
    "encoder_production_company_1 = ce.TargetEncoder(cols= 'production_company_1') \n",
    "data.loc[:,'production_company_1'] = encoder_production_company_1.fit_transform(data['production_company_1'],data['rating'])"
   ]
  },
  {
   "cell_type": "markdown",
   "metadata": {},
   "source": [
    "### Imputing values for budget"
   ]
  },
  {
   "cell_type": "code",
   "execution_count": 13,
   "metadata": {},
   "outputs": [],
   "source": [
    "train = data[data['budget'] != 0].copy()\n",
    "test = data[data['budget'] == 0].copy()\n",
    "X_train, X_test, y_train, y_test =  train.drop('budget',axis = 1), test.drop('budget',axis = 1), train.loc[:,'budget'], test.loc[:,'budget']\n",
    "ind = y_test.index\n",
    "\n",
    "from sklearn.neighbors import KNeighborsRegressor\n",
    "\n",
    "knn = KNeighborsRegressor(n_neighbors=10)\n",
    "knn.fit(X_train, y_train)\n",
    "\n",
    "y_pred = knn.predict(X_test)\n",
    "\n",
    "for i in range(ind.shape[0]):\n",
    "    data.loc[ind[i],'budget'] = y_pred[i]\n",
    "    "
   ]
  },
  {
   "cell_type": "code",
   "execution_count": 14,
   "metadata": {},
   "outputs": [
    {
     "data": {
      "text/html": [
       "<div>\n",
       "<style scoped>\n",
       "    .dataframe tbody tr th:only-of-type {\n",
       "        vertical-align: middle;\n",
       "    }\n",
       "\n",
       "    .dataframe tbody tr th {\n",
       "        vertical-align: top;\n",
       "    }\n",
       "\n",
       "    .dataframe thead th {\n",
       "        text-align: right;\n",
       "    }\n",
       "</style>\n",
       "<table border=\"1\" class=\"dataframe\">\n",
       "  <thead>\n",
       "    <tr style=\"text-align: right;\">\n",
       "      <th></th>\n",
       "      <th>belongs_to_collection</th>\n",
       "      <th>budget</th>\n",
       "      <th>runtime</th>\n",
       "      <th>num_faces</th>\n",
       "      <th>brightness</th>\n",
       "      <th>saturation</th>\n",
       "      <th>hue</th>\n",
       "      <th>brightness_sd</th>\n",
       "      <th>saturation_sd</th>\n",
       "      <th>hue_sd</th>\n",
       "      <th>...</th>\n",
       "      <th>TV Movie</th>\n",
       "      <th>Thriller</th>\n",
       "      <th>War</th>\n",
       "      <th>Western</th>\n",
       "      <th>production_company_1</th>\n",
       "      <th>Lead_Actor</th>\n",
       "      <th>Supporting_Actor</th>\n",
       "      <th>Director</th>\n",
       "      <th>Producer</th>\n",
       "      <th>rating</th>\n",
       "    </tr>\n",
       "  </thead>\n",
       "  <tbody>\n",
       "    <tr>\n",
       "      <th>0</th>\n",
       "      <td>1</td>\n",
       "      <td>30000000.0</td>\n",
       "      <td>81.0</td>\n",
       "      <td>0.0</td>\n",
       "      <td>184.775439</td>\n",
       "      <td>190.399400</td>\n",
       "      <td>82.805137</td>\n",
       "      <td>58.496526</td>\n",
       "      <td>80.933495</td>\n",
       "      <td>46.984021</td>\n",
       "      <td>...</td>\n",
       "      <td>0.0</td>\n",
       "      <td>0.0</td>\n",
       "      <td>0.0</td>\n",
       "      <td>0.0</td>\n",
       "      <td>3.135069</td>\n",
       "      <td>3.221894</td>\n",
       "      <td>3.218344</td>\n",
       "      <td>3.269310</td>\n",
       "      <td>3.133749</td>\n",
       "      <td>3.598930</td>\n",
       "    </tr>\n",
       "    <tr>\n",
       "      <th>1</th>\n",
       "      <td>0</td>\n",
       "      <td>65000000.0</td>\n",
       "      <td>104.0</td>\n",
       "      <td>0.0</td>\n",
       "      <td>166.807096</td>\n",
       "      <td>91.547633</td>\n",
       "      <td>65.296239</td>\n",
       "      <td>83.413251</td>\n",
       "      <td>67.319422</td>\n",
       "      <td>61.296055</td>\n",
       "      <td>...</td>\n",
       "      <td>0.0</td>\n",
       "      <td>0.0</td>\n",
       "      <td>0.0</td>\n",
       "      <td>0.0</td>\n",
       "      <td>3.273118</td>\n",
       "      <td>3.195112</td>\n",
       "      <td>3.133749</td>\n",
       "      <td>3.290745</td>\n",
       "      <td>3.456065</td>\n",
       "      <td>3.760163</td>\n",
       "    </tr>\n",
       "    <tr>\n",
       "      <th>2</th>\n",
       "      <td>0</td>\n",
       "      <td>60000000.0</td>\n",
       "      <td>170.0</td>\n",
       "      <td>3.0</td>\n",
       "      <td>45.715307</td>\n",
       "      <td>136.999480</td>\n",
       "      <td>76.802894</td>\n",
       "      <td>60.436514</td>\n",
       "      <td>105.250820</td>\n",
       "      <td>50.140706</td>\n",
       "      <td>...</td>\n",
       "      <td>0.0</td>\n",
       "      <td>1.0</td>\n",
       "      <td>0.0</td>\n",
       "      <td>0.0</td>\n",
       "      <td>3.232329</td>\n",
       "      <td>3.431047</td>\n",
       "      <td>3.433421</td>\n",
       "      <td>3.370673</td>\n",
       "      <td>3.495914</td>\n",
       "      <td>3.905544</td>\n",
       "    </tr>\n",
       "    <tr>\n",
       "      <th>3</th>\n",
       "      <td>1</td>\n",
       "      <td>58000000.0</td>\n",
       "      <td>130.0</td>\n",
       "      <td>0.0</td>\n",
       "      <td>109.660769</td>\n",
       "      <td>137.422763</td>\n",
       "      <td>72.647441</td>\n",
       "      <td>86.758819</td>\n",
       "      <td>82.646283</td>\n",
       "      <td>53.146266</td>\n",
       "      <td>...</td>\n",
       "      <td>0.0</td>\n",
       "      <td>1.0</td>\n",
       "      <td>0.0</td>\n",
       "      <td>0.0</td>\n",
       "      <td>3.233043</td>\n",
       "      <td>3.482260</td>\n",
       "      <td>3.013112</td>\n",
       "      <td>2.764595</td>\n",
       "      <td>3.267760</td>\n",
       "      <td>2.740334</td>\n",
       "    </tr>\n",
       "    <tr>\n",
       "      <th>4</th>\n",
       "      <td>0</td>\n",
       "      <td>98000000.0</td>\n",
       "      <td>119.0</td>\n",
       "      <td>0.0</td>\n",
       "      <td>163.764743</td>\n",
       "      <td>175.083098</td>\n",
       "      <td>21.076989</td>\n",
       "      <td>78.702461</td>\n",
       "      <td>76.101948</td>\n",
       "      <td>28.865624</td>\n",
       "      <td>...</td>\n",
       "      <td>0.0</td>\n",
       "      <td>0.0</td>\n",
       "      <td>0.0</td>\n",
       "      <td>0.0</td>\n",
       "      <td>3.233850</td>\n",
       "      <td>3.741384</td>\n",
       "      <td>3.451753</td>\n",
       "      <td>3.552290</td>\n",
       "      <td>3.189284</td>\n",
       "      <td>3.710181</td>\n",
       "    </tr>\n",
       "  </tbody>\n",
       "</table>\n",
       "<p>5 rows × 42 columns</p>\n",
       "</div>"
      ],
      "text/plain": [
       "   belongs_to_collection      budget  runtime  num_faces  brightness  \\\n",
       "0                      1  30000000.0     81.0        0.0  184.775439   \n",
       "1                      0  65000000.0    104.0        0.0  166.807096   \n",
       "2                      0  60000000.0    170.0        3.0   45.715307   \n",
       "3                      1  58000000.0    130.0        0.0  109.660769   \n",
       "4                      0  98000000.0    119.0        0.0  163.764743   \n",
       "\n",
       "   saturation        hue  brightness_sd  saturation_sd      hue_sd  ...  \\\n",
       "0  190.399400  82.805137      58.496526       80.933495  46.984021  ...   \n",
       "1   91.547633  65.296239      83.413251       67.319422  61.296055  ...   \n",
       "2  136.999480  76.802894      60.436514      105.250820  50.140706  ...   \n",
       "3  137.422763  72.647441      86.758819       82.646283  53.146266  ...   \n",
       "4  175.083098  21.076989      78.702461       76.101948  28.865624  ...   \n",
       "\n",
       "   TV Movie  Thriller  War  Western  production_company_1  Lead_Actor  \\\n",
       "0       0.0       0.0  0.0      0.0              3.135069    3.221894   \n",
       "1       0.0       0.0  0.0      0.0              3.273118    3.195112   \n",
       "2       0.0       1.0  0.0      0.0              3.232329    3.431047   \n",
       "3       0.0       1.0  0.0      0.0              3.233043    3.482260   \n",
       "4       0.0       0.0  0.0      0.0              3.233850    3.741384   \n",
       "\n",
       "   Supporting_Actor  Director  Producer    rating  \n",
       "0          3.218344  3.269310  3.133749  3.598930  \n",
       "1          3.133749  3.290745  3.456065  3.760163  \n",
       "2          3.433421  3.370673  3.495914  3.905544  \n",
       "3          3.013112  2.764595  3.267760  2.740334  \n",
       "4          3.451753  3.552290  3.189284  3.710181  \n",
       "\n",
       "[5 rows x 42 columns]"
      ]
     },
     "execution_count": 14,
     "metadata": {},
     "output_type": "execute_result"
    }
   ],
   "source": [
    "data.head()"
   ]
  },
  {
   "cell_type": "markdown",
   "metadata": {},
   "source": [
    "### Bag of Words Model with CountVectorizer"
   ]
  },
  {
   "cell_type": "code",
   "execution_count": 15,
   "metadata": {
    "scrolled": false
   },
   "outputs": [],
   "source": [
    "\"\"\"import re\n",
    "import nltk\n",
    "import pickle\n",
    "nltk.download('stopwords')\n",
    "from nltk.corpus import stopwords\n",
    "from sklearn.feature_extraction.text import CountVectorizer\n",
    "from nltk.stem.snowball import SnowballStemmer\n",
    "def preprocess(df, lst) : \n",
    "    for i in range(df.shape[0]) :\n",
    "        comment = re.sub(r'[?|!|\\'|\"|#]',r'', df['overview'][i])\n",
    "        comment = re.sub(r'[.|,|)|(|\\|/]',r' ', comment)\n",
    "        comment = comment.replace(\"\\n\",\" \")\n",
    "        comment = re.sub('[^a-zA-Z]',' ', comment)\n",
    "        comment = comment.lower()\n",
    "        comment = comment.split()\n",
    "        ps = SnowballStemmer(language='english')\n",
    "        comment = [ps.stem(word) for word in comment if not word in set(stopwords.words('english'))]\n",
    "        comment = ' '.join(comment)\n",
    "        lst.append(comment)\n",
    "        if i%1000 == 0 :\n",
    "            print(str(i)+' comments preprocessed')\n",
    "\n",
    "    \n",
    "start1 = datetime.now()    \n",
    "corpus = []\n",
    "preprocess(overview, corpus)\n",
    "end1 = datetime.now()\n",
    "print('\\n..............Corpus created.............')\n",
    "print('\\nTIme taken to create corpus : ', start1 - end1)\n",
    "\n",
    "cv = CountVectorizer(max_features=500)\n",
    "\n",
    "ovrvw = cv.fit_transform(corpus).toarray()\n",
    "\n",
    "pd.DataFrame(ovrvw).to_csv('overview_cv.csv',index_label = False)\n",
    "\"\"\"\n",
    "\n",
    "ovrvw = pd.read_csv(r'overview_cv.csv')"
   ]
  },
  {
   "cell_type": "code",
   "execution_count": 16,
   "metadata": {},
   "outputs": [
    {
     "data": {
      "text/plain": [
       "(6634, 42)"
      ]
     },
     "execution_count": 16,
     "metadata": {},
     "output_type": "execute_result"
    }
   ],
   "source": [
    "y = data.loc[:,'rating'].values\n",
    "X = data.loc[:,:'rating'].values\n",
    "X.shape"
   ]
  },
  {
   "cell_type": "code",
   "execution_count": 17,
   "metadata": {},
   "outputs": [],
   "source": [
    "X = np.hstack((X,ovrvw))"
   ]
  },
  {
   "cell_type": "code",
   "execution_count": 18,
   "metadata": {},
   "outputs": [],
   "source": [
    "from sklearn.preprocessing import StandardScaler\n",
    "\n",
    "sc = StandardScaler()\n",
    "\n",
    "X = sc.fit_transform(X)"
   ]
  },
  {
   "cell_type": "code",
   "execution_count": 19,
   "metadata": {},
   "outputs": [],
   "source": [
    "from sklearn.model_selection import train_test_split\n",
    "\n",
    "X_train, X_test, y_train, y_test = train_test_split(X, y, test_size = 0.1, random_state = 42)"
   ]
  },
  {
   "cell_type": "code",
   "execution_count": 20,
   "metadata": {},
   "outputs": [
    {
     "name": "stderr",
     "output_type": "stream",
     "text": [
      "C:\\Users\\ANP\\Anaconda3\\lib\\site-packages\\sklearn\\ensemble\\forest.py:245: FutureWarning: The default value of n_estimators will change from 10 in version 0.20 to 100 in 0.22.\n",
      "  \"10 in version 0.20 to 100 in 0.22.\", FutureWarning)\n"
     ]
    },
    {
     "name": "stdout",
     "output_type": "stream",
     "text": [
      "-------------| Time to fit the model : -1 day, 23:59:48.655346 |-------------\n"
     ]
    }
   ],
   "source": [
    "from sklearn.ensemble import RandomForestRegressor\n",
    "from sklearn.model_selection import GridSearchCV\n",
    "\n",
    "from datetime import datetime\n",
    "\n",
    "start = datetime.now()\n",
    "\n",
    "\"\"\"param = {   \"n_estimators\"      : [30,50,100],\n",
    "            \"max_features\"      : [\"auto\", \"sqrt\", \"log2\"],\n",
    "            \"max_depth\"         : [5, 10, 15, 20],\n",
    "            \"bootstrap\"         : [True, False],\n",
    "            \"criterion\"         : ['mae']\n",
    "        }\"\"\"\n",
    "\n",
    "#grids = GridSearchCV(RandomForestRegressor(), param_grid= param, cv = 5, scoring = 'neg_mean_absolute_error')\n",
    "grids = RandomForestRegressor()\n",
    "grids.fit(X_train,y_train)\n",
    "\n",
    "end = datetime.now()\n",
    "\n",
    "print('-------------| Time to fit the model : {} |-------------'.format(start - end))\n",
    "\n",
    "# print('-------------| Best Paramters : {} |-------------'.format(grids.best_params_))\n",
    "\n",
    "# print('-------------| Best Score : {} |-------------'.format(-1*grids.best_score_))"
   ]
  },
  {
   "cell_type": "code",
   "execution_count": 21,
   "metadata": {},
   "outputs": [
    {
     "name": "stdout",
     "output_type": "stream",
     "text": [
      "-------------| Mean Absolute Error on Train set : 0.00039754846716733987 |-------------\n"
     ]
    }
   ],
   "source": [
    "y_train_pred = grids.predict(X_train)\n",
    "\n",
    "from sklearn.metrics import mean_absolute_error\n",
    "\n",
    "print('-------------| Mean Absolute Error on Train set : {} |-------------'.format(mean_absolute_error(y_train, y_train_pred)))"
   ]
  },
  {
   "cell_type": "code",
   "execution_count": 22,
   "metadata": {},
   "outputs": [
    {
     "name": "stdout",
     "output_type": "stream",
     "text": [
      "-------------| Mean Absolute Error on Test set : 0.0009678417562146343 |-------------\n"
     ]
    }
   ],
   "source": [
    "y_pred = grids.predict(X_test)\n",
    "\n",
    "from sklearn.metrics import mean_absolute_error\n",
    "\n",
    "print('-------------| Mean Absolute Error on Test set : {} |-------------'.format(mean_absolute_error(y_test, y_pred)))"
   ]
  }
 ],
 "metadata": {
  "kernelspec": {
   "display_name": "Python 3",
   "language": "python",
   "name": "python3"
  },
  "language_info": {
   "codemirror_mode": {
    "name": "ipython",
    "version": 3
   },
   "file_extension": ".py",
   "mimetype": "text/x-python",
   "name": "python",
   "nbconvert_exporter": "python",
   "pygments_lexer": "ipython3",
   "version": "3.7.3"
  }
 },
 "nbformat": 4,
 "nbformat_minor": 2
}
